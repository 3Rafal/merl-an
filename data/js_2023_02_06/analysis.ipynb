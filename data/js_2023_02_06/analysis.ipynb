{
 "cells": [
  {
   "cell_type": "code",
   "execution_count": 1,
   "metadata": {},
   "outputs": [],
   "source": [
    "import pandas as pd\n",
    "warm = \"warm/\"\n",
    "cold = \"cold/\"\n",
    "warm_performance_json = warm + \"performances.json\"\n",
    "cold_performance_json = cold + \"performances.json\"\n",
    "commands_json = warm + \"commands.json\"\n",
    "merlin_responses_json = warm + \"query_responses.json\"\n",
    "logs_json = warm + \"logs.json\"\n",
    "metadata_json = warm + \"metadata.json\"\n"
   ]
  },
  {
   "cell_type": "markdown",
   "metadata": {},
   "source": [
    "## The merlin cache"
   ]
  },
  {
   "cell_type": "markdown",
   "metadata": {},
   "source": [
    "Let's have a look whether the cache seems to have been inited correctly during the warm run.\n",
    "\n",
    "_Explanation_: we've run each `merlin` query on each sample 10 times with the idea to analyze variance. When using the merlin frontend Server (cli-option `warm`), `merl-an` should initialize the `merlin` cache on each file before running the queries."
   ]
  },
  {
   "cell_type": "code",
   "execution_count": 2,
   "metadata": {},
   "outputs": [],
   "source": [
    "warm_performance = pd.read_json(warm_performance_json, lines = True)\n",
    "cold_performance = pd.read_json(cold_performance_json, lines = True)\n",
    "cold_performance_truncated = cold_performance[[\"sample_id\", \"timings\", \"max_timing\"]]\n",
    "cold_performance_truncated = cold_performance_truncated.rename(columns={\"timings\" : \"cold_timings\", \"max_timing\" : \"cold_max_timing\"})\n",
    "performance = pd.merge(warm_performance, cold_performance_truncated, on = \"sample_id\")\n",
    "performance = performance.sort_values(\"max_timing\", ascending = False)[[\"sample_id\", \"timings\", \"max_timing\", \"cold_timings\", \"cold_max_timing\", \"query_type\", \"file\"]]"
   ]
  },
  {
   "cell_type": "markdown",
   "metadata": {},
   "source": [
    "### Observation"
   ]
  },
  {
   "cell_type": "markdown",
   "metadata": {},
   "source": [
    "On one hand, there're quite a few samples with the following pattern: on `warm`, the first of the 10 queries takes way longer than the other 9. However, the the same queries in `cold` mode take even considerably longer.\n",
    "\n",
    "This seems to be the case particularly often in the samples that have taken the longest (on `warm)."
   ]
  },
  {
   "cell_type": "code",
   "execution_count": 3,
   "metadata": {},
   "outputs": [
    {
     "data": {
      "text/html": [
       "<div>\n",
       "<style scoped>\n",
       "    .dataframe tbody tr th:only-of-type {\n",
       "        vertical-align: middle;\n",
       "    }\n",
       "\n",
       "    .dataframe tbody tr th {\n",
       "        vertical-align: top;\n",
       "    }\n",
       "\n",
       "    .dataframe thead th {\n",
       "        text-align: right;\n",
       "    }\n",
       "</style>\n",
       "<table border=\"1\" class=\"dataframe\">\n",
       "  <thead>\n",
       "    <tr style=\"text-align: right;\">\n",
       "      <th></th>\n",
       "      <th>sample_id</th>\n",
       "      <th>timings</th>\n",
       "      <th>max_timing</th>\n",
       "      <th>cold_timings</th>\n",
       "      <th>cold_max_timing</th>\n",
       "      <th>query_type</th>\n",
       "      <th>file</th>\n",
       "    </tr>\n",
       "  </thead>\n",
       "  <tbody>\n",
       "    <tr>\n",
       "      <th>209</th>\n",
       "      <td>30</td>\n",
       "      <td>[3665, 111, 126, 123, 123, 124, 123, 124, 123,...</td>\n",
       "      <td>3665</td>\n",
       "      <td>[8050, 8157, 8138, 7979, 7974, 7943, 8030, 793...</td>\n",
       "      <td>8157</td>\n",
       "      <td>[Type_enclosing]</td>\n",
       "      <td>app/rfq-reports/reports/trading/lib/bond_singl...</td>\n",
       "    </tr>\n",
       "    <tr>\n",
       "      <th>239</th>\n",
       "      <td>0</td>\n",
       "      <td>[3662, 100, 107, 104, 107, 108, 106, 103, 106,...</td>\n",
       "      <td>3662</td>\n",
       "      <td>[5774, 5096, 5063, 4643, 4580, 4641, 4694, 461...</td>\n",
       "      <td>5774</td>\n",
       "      <td>[Locate]</td>\n",
       "      <td>app/rfq-reports/reports/trading/lib/bond_singl...</td>\n",
       "    </tr>\n",
       "    <tr>\n",
       "      <th>216</th>\n",
       "      <td>23</td>\n",
       "      <td>[961, 106, 101, 129, 106, 105, 102, 104, 103, ...</td>\n",
       "      <td>961</td>\n",
       "      <td>[7799, 5048, 4659, 4634, 4665, 4636, 4600, 460...</td>\n",
       "      <td>7799</td>\n",
       "      <td>[Locate]</td>\n",
       "      <td>app/rfq-reports/reports/trading/lib/bond_singl...</td>\n",
       "    </tr>\n",
       "    <tr>\n",
       "      <th>235</th>\n",
       "      <td>4</td>\n",
       "      <td>[502, 102, 121, 116, 118, 115, 116, 116, 116, ...</td>\n",
       "      <td>502</td>\n",
       "      <td>[4773, 4739, 4737, 4742, 4779, 4743, 4785, 480...</td>\n",
       "      <td>4807</td>\n",
       "      <td>[Locate]</td>\n",
       "      <td>app/rfq-reports/reports/trading/lib/bond_singl...</td>\n",
       "    </tr>\n",
       "    <tr>\n",
       "      <th>59</th>\n",
       "      <td>180</td>\n",
       "      <td>[495, 79, 81, 92, 99, 92, 99, 90, 100, 90]</td>\n",
       "      <td>495</td>\n",
       "      <td>[639, 608, 595, 593, 593, 595, 593, 587, 588, ...</td>\n",
       "      <td>639</td>\n",
       "      <td>[Locate]</td>\n",
       "      <td>lib/async_unix/src/writer0.ml</td>\n",
       "    </tr>\n",
       "  </tbody>\n",
       "</table>\n",
       "</div>"
      ],
      "text/plain": [
       "     sample_id                                            timings  max_timing  \\\n",
       "209         30  [3665, 111, 126, 123, 123, 124, 123, 124, 123,...        3665   \n",
       "239          0  [3662, 100, 107, 104, 107, 108, 106, 103, 106,...        3662   \n",
       "216         23  [961, 106, 101, 129, 106, 105, 102, 104, 103, ...         961   \n",
       "235          4  [502, 102, 121, 116, 118, 115, 116, 116, 116, ...         502   \n",
       "59         180         [495, 79, 81, 92, 99, 92, 99, 90, 100, 90]         495   \n",
       "\n",
       "                                          cold_timings  cold_max_timing  \\\n",
       "209  [8050, 8157, 8138, 7979, 7974, 7943, 8030, 793...             8157   \n",
       "239  [5774, 5096, 5063, 4643, 4580, 4641, 4694, 461...             5774   \n",
       "216  [7799, 5048, 4659, 4634, 4665, 4636, 4600, 460...             7799   \n",
       "235  [4773, 4739, 4737, 4742, 4779, 4743, 4785, 480...             4807   \n",
       "59   [639, 608, 595, 593, 593, 595, 593, 587, 588, ...              639   \n",
       "\n",
       "           query_type                                               file  \n",
       "209  [Type_enclosing]  app/rfq-reports/reports/trading/lib/bond_singl...  \n",
       "239          [Locate]  app/rfq-reports/reports/trading/lib/bond_singl...  \n",
       "216          [Locate]  app/rfq-reports/reports/trading/lib/bond_singl...  \n",
       "235          [Locate]  app/rfq-reports/reports/trading/lib/bond_singl...  \n",
       "59           [Locate]                      lib/async_unix/src/writer0.ml  "
      ]
     },
     "execution_count": 3,
     "metadata": {},
     "output_type": "execute_result"
    }
   ],
   "source": [
    "n = 5\n",
    "# TODO (note for myself): turns out that it's a horrible idea to store a list inside a pandas series.\n",
    "# If I want to keep on using pandas, I need to change the layout of the data files.\n",
    "init_cache_suspicous = performance.copy()\n",
    "init_cache_suspicous[\"timings\"] = init_cache_suspicous[\"timings\"].apply(lambda ts: ts if ts[0] == max(ts) else None)\n",
    "init_cache_suspicous=init_cache_suspicous.dropna()\n",
    "init_cache_suspicous = init_cache_suspicous[init_cache_suspicous[\"max_timing\"] < init_cache_suspicous[\"cold_max_timing\"]]\n",
    "init_cache_suspicous.sort_values(\"max_timing\", ascending = False).iloc[:n, :]\n"
   ]
  },
  {
   "cell_type": "markdown",
   "metadata": {},
   "source": [
    "On the other hand, there are also quite a few queries, on which it isn't the case that the first repeat was the one that took the longest:"
   ]
  },
  {
   "cell_type": "code",
   "execution_count": 4,
   "metadata": {},
   "outputs": [
    {
     "data": {
      "text/html": [
       "<div>\n",
       "<style scoped>\n",
       "    .dataframe tbody tr th:only-of-type {\n",
       "        vertical-align: middle;\n",
       "    }\n",
       "\n",
       "    .dataframe tbody tr th {\n",
       "        vertical-align: top;\n",
       "    }\n",
       "\n",
       "    .dataframe thead th {\n",
       "        text-align: right;\n",
       "    }\n",
       "</style>\n",
       "<table border=\"1\" class=\"dataframe\">\n",
       "  <thead>\n",
       "    <tr style=\"text-align: right;\">\n",
       "      <th></th>\n",
       "      <th>sample_id</th>\n",
       "      <th>timings</th>\n",
       "      <th>max_timing</th>\n",
       "      <th>cold_timings</th>\n",
       "      <th>cold_max_timing</th>\n",
       "      <th>query_type</th>\n",
       "      <th>file</th>\n",
       "    </tr>\n",
       "  </thead>\n",
       "  <tbody>\n",
       "    <tr>\n",
       "      <th>37</th>\n",
       "      <td>202</td>\n",
       "      <td>[97, 174, 82, 146, 78, 79, 78, 79, 3369, 91]</td>\n",
       "      <td>3369</td>\n",
       "      <td>[596, 597, 606, 599, 601, 599, 610, 611, 652, ...</td>\n",
       "      <td>652</td>\n",
       "      <td>[Locate]</td>\n",
       "      <td>lib/async_unix/src/writer0.ml</td>\n",
       "    </tr>\n",
       "    <tr>\n",
       "      <th>219</th>\n",
       "      <td>20</td>\n",
       "      <td>[116, 117, 117, 116, 100, 117, 113, 123, 122, ...</td>\n",
       "      <td>175</td>\n",
       "      <td>[4607, 4563, 4574, 4538, 4556, 4548, 4578, 460...</td>\n",
       "      <td>4621</td>\n",
       "      <td>[Locate]</td>\n",
       "      <td>app/rfq-reports/reports/trading/lib/bond_singl...</td>\n",
       "    </tr>\n",
       "    <tr>\n",
       "      <th>220</th>\n",
       "      <td>19</td>\n",
       "      <td>[120, 120, 120, 136, 120, 120, 119, 119, 117, ...</td>\n",
       "      <td>136</td>\n",
       "      <td>[4808, 4755, 4720, 5112, 5329, 4869, 4769, 472...</td>\n",
       "      <td>5329</td>\n",
       "      <td>[Locate]</td>\n",
       "      <td>app/rfq-reports/reports/trading/lib/bond_singl...</td>\n",
       "    </tr>\n",
       "    <tr>\n",
       "      <th>175</th>\n",
       "      <td>64</td>\n",
       "      <td>[55, 57, 135, 57, 70, 75, 56, 65, 57, 56]</td>\n",
       "      <td>135</td>\n",
       "      <td>[576, 575, 572, 575, 572, 577, 574, 577, 578, ...</td>\n",
       "      <td>578</td>\n",
       "      <td>[Locate]</td>\n",
       "      <td>lib/core_unix/src/core_unix.ml</td>\n",
       "    </tr>\n",
       "    <tr>\n",
       "      <th>38</th>\n",
       "      <td>201</td>\n",
       "      <td>[86, 83, 78, 87, 76, 134, 80, 82, 75, 82]</td>\n",
       "      <td>134</td>\n",
       "      <td>[599, 614, 597, 596, 597, 599, 594, 593, 599, ...</td>\n",
       "      <td>614</td>\n",
       "      <td>[Locate]</td>\n",
       "      <td>lib/async_unix/src/writer0.ml</td>\n",
       "    </tr>\n",
       "  </tbody>\n",
       "</table>\n",
       "</div>"
      ],
      "text/plain": [
       "     sample_id                                            timings  max_timing  \\\n",
       "37         202       [97, 174, 82, 146, 78, 79, 78, 79, 3369, 91]        3369   \n",
       "219         20  [116, 117, 117, 116, 100, 117, 113, 123, 122, ...         175   \n",
       "220         19  [120, 120, 120, 136, 120, 120, 119, 119, 117, ...         136   \n",
       "175         64          [55, 57, 135, 57, 70, 75, 56, 65, 57, 56]         135   \n",
       "38         201          [86, 83, 78, 87, 76, 134, 80, 82, 75, 82]         134   \n",
       "\n",
       "                                          cold_timings  cold_max_timing  \\\n",
       "37   [596, 597, 606, 599, 601, 599, 610, 611, 652, ...              652   \n",
       "219  [4607, 4563, 4574, 4538, 4556, 4548, 4578, 460...             4621   \n",
       "220  [4808, 4755, 4720, 5112, 5329, 4869, 4769, 472...             5329   \n",
       "175  [576, 575, 572, 575, 572, 577, 574, 577, 578, ...              578   \n",
       "38   [599, 614, 597, 596, 597, 599, 594, 593, 599, ...              614   \n",
       "\n",
       "    query_type                                               file  \n",
       "37    [Locate]                      lib/async_unix/src/writer0.ml  \n",
       "219   [Locate]  app/rfq-reports/reports/trading/lib/bond_singl...  \n",
       "220   [Locate]  app/rfq-reports/reports/trading/lib/bond_singl...  \n",
       "175   [Locate]                     lib/core_unix/src/core_unix.ml  \n",
       "38    [Locate]                      lib/async_unix/src/writer0.ml  "
      ]
     },
     "execution_count": 4,
     "metadata": {},
     "output_type": "execute_result"
    }
   ],
   "source": [
    "n = 5\n",
    "init_cache_seems_fine = performance.copy()\n",
    "init_cache_seems_fine[\"timings\"] = init_cache_seems_fine[\"timings\"].apply(lambda ts: None if ts[0] == max(ts) else ts).dropna()\n",
    "init_cache_seems_fine = init_cache_seems_fine.dropna().sort_values(\"max_timing\", ascending = False)\n",
    "init_cache_seems_fine.sort_values(\"max_timing\", ascending = False).iloc[:n, :]"
   ]
  },
  {
   "cell_type": "markdown",
   "metadata": {},
   "source": [
    "What's the ratio between the two scenerios?"
   ]
  },
  {
   "cell_type": "code",
   "execution_count": 5,
   "metadata": {},
   "outputs": [
    {
     "data": {
      "text/plain": [
       "74"
      ]
     },
     "execution_count": 5,
     "metadata": {},
     "output_type": "execute_result"
    }
   ],
   "source": [
    "len(init_cache_suspicous)"
   ]
  },
  {
   "cell_type": "code",
   "execution_count": 6,
   "metadata": {},
   "outputs": [
    {
     "data": {
      "text/plain": [
       "166"
      ]
     },
     "execution_count": 6,
     "metadata": {},
     "output_type": "execute_result"
    }
   ],
   "source": [
    "len(init_cache_seems_fine)"
   ]
  },
  {
   "cell_type": "markdown",
   "metadata": {},
   "source": [
    "I guess I'm doing something wrong with the cache initialization... (also, btw, the \"init cache suspicious\"-scenario happens far more often when the timing is poor)"
   ]
  },
  {
   "cell_type": "markdown",
   "metadata": {},
   "source": []
  },
  {
   "cell_type": "markdown",
   "metadata": {},
   "source": [
    "## Variance\n",
    "\n",
    "Let's filter out the samples in which the cache initialization seems to have been suspicious when visualizing the variance."
   ]
  },
  {
   "cell_type": "code",
   "execution_count": 7,
   "metadata": {},
   "outputs": [
    {
     "data": {
      "text/plain": [
       "<AxesSubplot: >"
      ]
     },
     "execution_count": 7,
     "metadata": {},
     "output_type": "execute_result"
    },
    {
     "data": {
      "image/png": "[encoded data removed]",
      "text/plain": [
       "<Figure size 640x480 with 1 Axes>"
      ]
     },
     "metadata": {},
     "output_type": "display_data"
    }
   ],
   "source": [
    "timings_per_query = pd.DataFrame({row[\"sample_id\"] : row[\"timings\"] for i, row in init_cache_seems_fine.iterrows()})\n",
    "worst_timings = timings_per_query.iloc[:, 1:15]\n",
    "worst_timings.plot.box()"
   ]
  },
  {
   "cell_type": "markdown",
   "metadata": {},
   "source": [
    "##  Time/space trade-off"
   ]
  },
  {
   "cell_type": "code",
   "execution_count": 8,
   "metadata": {},
   "outputs": [
    {
     "ename": "TypeError",
     "evalue": "list indices must be integers or slices, not str",
     "output_type": "error",
     "traceback": [
      "\u001b[0;31m---------------------------------------------------------------------------\u001b[0m",
      "\u001b[0;31mTypeError\u001b[0m                                 Traceback (most recent call last)",
      "Cell \u001b[0;32mIn [8], line 3\u001b[0m\n\u001b[1;32m      1\u001b[0m merlin_responses \u001b[38;5;241m=\u001b[39m pd\u001b[38;5;241m.\u001b[39mread_json(merlin_responses_json, lines \u001b[38;5;241m=\u001b[39m \u001b[38;5;28;01mTrue\u001b[39;00m)\n\u001b[1;32m      2\u001b[0m \u001b[38;5;28mall\u001b[39m \u001b[38;5;241m=\u001b[39m pd\u001b[38;5;241m.\u001b[39mmerge(init_cache_seems_fine, merlin_responses, on \u001b[38;5;241m=\u001b[39m \u001b[38;5;124m\"\u001b[39m\u001b[38;5;124msample_id\u001b[39m\u001b[38;5;124m\"\u001b[39m)\n\u001b[0;32m----> 3\u001b[0m cpu_time \u001b[38;5;241m=\u001b[39m pd\u001b[38;5;241m.\u001b[39mDataFrame\u001b[38;5;241m.\u001b[39mfrom_records([{\u001b[38;5;124m\"\u001b[39m\u001b[38;5;124mtime\u001b[39m\u001b[38;5;124m\"\u001b[39m: row[\u001b[38;5;124m\"\u001b[39m\u001b[38;5;124mresponses\u001b[39m\u001b[38;5;124m\"\u001b[39m][\u001b[38;5;124m\"\u001b[39m\u001b[38;5;124mtiming\u001b[39m\u001b[38;5;124m\"\u001b[39m][\u001b[38;5;124m\"\u001b[39m\u001b[38;5;124mclock\u001b[39m\u001b[38;5;124m\"\u001b[39m], \u001b[38;5;124m\"\u001b[39m\u001b[38;5;124mcpu\u001b[39m\u001b[38;5;124m\"\u001b[39m : row[\u001b[38;5;124m\"\u001b[39m\u001b[38;5;124mmerlin_reply\u001b[39m\u001b[38;5;124m\"\u001b[39m][\u001b[38;5;124m\"\u001b[39m\u001b[38;5;124mtiming\u001b[39m\u001b[38;5;124m\"\u001b[39m][\u001b[38;5;124m\"\u001b[39m\u001b[38;5;124mcpu\u001b[39m\u001b[38;5;124m\"\u001b[39m]} \u001b[38;5;28;01mfor\u001b[39;00m i, row \u001b[38;5;129;01min\u001b[39;00m \u001b[38;5;28mall\u001b[39m[\u001b[38;5;28mall\u001b[39m[\u001b[38;5;124m\"\u001b[39m\u001b[38;5;124mfile\u001b[39m\u001b[38;5;124m\"\u001b[39m] \u001b[38;5;241m==\u001b[39m \u001b[38;5;124m\"\u001b[39m\u001b[38;5;124mlib/async_unix/src/tcp.ml\u001b[39m\u001b[38;5;124m\"\u001b[39m]\u001b[38;5;241m.\u001b[39miterrows()])\n\u001b[1;32m      4\u001b[0m \u001b[38;5;66;03m# cpu_time.plot.scatter(x=\"time\", y=\"cpu\")\u001b[39;00m\n\u001b[1;32m      5\u001b[0m cpu_time\n",
      "Cell \u001b[0;32mIn [8], line 3\u001b[0m, in \u001b[0;36m<listcomp>\u001b[0;34m(.0)\u001b[0m\n\u001b[1;32m      1\u001b[0m merlin_responses \u001b[38;5;241m=\u001b[39m pd\u001b[38;5;241m.\u001b[39mread_json(merlin_responses_json, lines \u001b[38;5;241m=\u001b[39m \u001b[38;5;28;01mTrue\u001b[39;00m)\n\u001b[1;32m      2\u001b[0m \u001b[38;5;28mall\u001b[39m \u001b[38;5;241m=\u001b[39m pd\u001b[38;5;241m.\u001b[39mmerge(init_cache_seems_fine, merlin_responses, on \u001b[38;5;241m=\u001b[39m \u001b[38;5;124m\"\u001b[39m\u001b[38;5;124msample_id\u001b[39m\u001b[38;5;124m\"\u001b[39m)\n\u001b[0;32m----> 3\u001b[0m cpu_time \u001b[38;5;241m=\u001b[39m pd\u001b[38;5;241m.\u001b[39mDataFrame\u001b[38;5;241m.\u001b[39mfrom_records([{\u001b[38;5;124m\"\u001b[39m\u001b[38;5;124mtime\u001b[39m\u001b[38;5;124m\"\u001b[39m: \u001b[43mrow\u001b[49m\u001b[43m[\u001b[49m\u001b[38;5;124;43m\"\u001b[39;49m\u001b[38;5;124;43mresponses\u001b[39;49m\u001b[38;5;124;43m\"\u001b[39;49m\u001b[43m]\u001b[49m\u001b[43m[\u001b[49m\u001b[38;5;124;43m\"\u001b[39;49m\u001b[38;5;124;43mtiming\u001b[39;49m\u001b[38;5;124;43m\"\u001b[39;49m\u001b[43m]\u001b[49m[\u001b[38;5;124m\"\u001b[39m\u001b[38;5;124mclock\u001b[39m\u001b[38;5;124m\"\u001b[39m], \u001b[38;5;124m\"\u001b[39m\u001b[38;5;124mcpu\u001b[39m\u001b[38;5;124m\"\u001b[39m : row[\u001b[38;5;124m\"\u001b[39m\u001b[38;5;124mmerlin_reply\u001b[39m\u001b[38;5;124m\"\u001b[39m][\u001b[38;5;124m\"\u001b[39m\u001b[38;5;124mtiming\u001b[39m\u001b[38;5;124m\"\u001b[39m][\u001b[38;5;124m\"\u001b[39m\u001b[38;5;124mcpu\u001b[39m\u001b[38;5;124m\"\u001b[39m]} \u001b[38;5;28;01mfor\u001b[39;00m i, row \u001b[38;5;129;01min\u001b[39;00m \u001b[38;5;28mall\u001b[39m[\u001b[38;5;28mall\u001b[39m[\u001b[38;5;124m\"\u001b[39m\u001b[38;5;124mfile\u001b[39m\u001b[38;5;124m\"\u001b[39m] \u001b[38;5;241m==\u001b[39m \u001b[38;5;124m\"\u001b[39m\u001b[38;5;124mlib/async_unix/src/tcp.ml\u001b[39m\u001b[38;5;124m\"\u001b[39m]\u001b[38;5;241m.\u001b[39miterrows()])\n\u001b[1;32m      4\u001b[0m \u001b[38;5;66;03m# cpu_time.plot.scatter(x=\"time\", y=\"cpu\")\u001b[39;00m\n\u001b[1;32m      5\u001b[0m cpu_time\n",
      "\u001b[0;31mTypeError\u001b[0m: list indices must be integers or slices, not str"
     ]
    }
   ],
   "source": [
    "merlin_responses = pd.read_json(merlin_responses_json, lines = True)\n",
    "all = pd.merge(init_cache_seems_fine, merlin_responses, on = \"sample_id\")\n",
    "cpu_time = pd.DataFrame.from_records([{\"time\": row[\"responses\"][\"timing\"][\"clock\"], \"cpu\" : row[\"merlin_reply\"][\"timing\"][\"cpu\"]} for i, row in all[all[\"file\"] == \"lib/async_unix/src/tcp.ml\"].iterrows()])\n",
    "# cpu_time.plot.scatter(x=\"time\", y=\"cpu\")\n",
    "cpu_time\n"
   ]
  }
 ],
 "metadata": {
  "kernelspec": {
   "display_name": "Python 3.10.6 64-bit",
   "language": "python",
   "name": "python3"
  },
  "language_info": {
   "codemirror_mode": {
    "name": "ipython",
    "version": 3
   },
   "file_extension": ".py",
   "mimetype": "text/x-python",
   "name": "python",
   "nbconvert_exporter": "python",
   "pygments_lexer": "ipython3",
   "version": "3.10.6"
  },
  "orig_nbformat": 4,
  "vscode": {
   "interpreter": {
    "hash": "916dbcbb3f70747c44a77c7bcd40155683ae19c65e1c03b4aa3499c5328201f1"
   }
  }
 },
 "nbformat": 4,
 "nbformat_minor": 2
}
